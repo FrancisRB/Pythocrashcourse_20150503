{
 "metadata": {
  "name": "",
  "signature": "sha256:19f769ce7e018e8f0f15a10a6790bfff137b0e97d7255d3b8e7212fd41bd9606"
 },
 "nbformat": 3,
 "nbformat_minor": 0,
 "worksheets": [
  {
   "cells": [
    {
     "cell_type": "heading",
     "level": 1,
     "metadata": {},
     "source": [
      "Welcome to this first course of the Python Crash Course 2015!"
     ]
    },
    {
     "cell_type": "markdown",
     "metadata": {},
     "source": [
      "In this first course we will look at the basic of python."
     ]
    },
    {
     "cell_type": "heading",
     "level": 2,
     "metadata": {},
     "source": [
      "The basic object in python and their methods"
     ]
    },
    {
     "cell_type": "markdown",
     "metadata": {},
     "source": [
      "Its exist different kind of object:\n",
      "\n",
      "    -String\n",
      "    -Number\n",
      "    -List\n",
      "    -Dictionnary\n",
      "    \n",
      "Each of those have is own usage and interest.\n",
      "\n",
      "We will descript this four types of object here"
     ]
    },
    {
     "cell_type": "heading",
     "level": 3,
     "metadata": {},
     "source": [
      "Interger and float"
     ]
    },
    {
     "cell_type": "code",
     "collapsed": false,
     "input": [
      "# The first object is the number, it can be as an interger (without decimal) or as float (with decimal)\n",
      "\n",
      "# this is a float, 4.43423\n",
      "# this is a interger(int), 5\n",
      "\n",
      "#In more an obejct can be assign at a variable(i.e.: a name containting an object) like that:\n",
      "\n",
      "my_number = 5\n",
      "my_float = 2.4343\n",
      "\n",
      "# When the variable is assign you can acces the value inside by calling it:\n",
      "\n",
      "my_number"
     ],
     "language": "python",
     "metadata": {},
     "outputs": []
    },
    {
     "cell_type": "code",
     "collapsed": false,
     "input": [
      "# You can do all mathematical expression in python:\n",
      "\n",
      "    # Addition and soustraction\n",
      "\n",
      "5 + 6 - 3"
     ],
     "language": "python",
     "metadata": {},
     "outputs": []
    },
    {
     "cell_type": "code",
     "collapsed": false,
     "input": [
      "    # Multiplication and division:\n",
      "\n",
      "5 * 5"
     ],
     "language": "python",
     "metadata": {},
     "outputs": []
    },
    {
     "cell_type": "code",
     "collapsed": false,
     "input": [
      "51/5 # Dividing integer will always give you an interger"
     ],
     "language": "python",
     "metadata": {},
     "outputs": []
    },
    {
     "cell_type": "code",
     "collapsed": false,
     "input": [
      "    # If you want the decimal point, you have to use float\n",
      "51./5   # By adding the point after 51, I change it to a float"
     ],
     "language": "python",
     "metadata": {},
     "outputs": []
    },
    {
     "cell_type": "code",
     "collapsed": false,
     "input": [
      "    # You can still have a 'floor' division (no decimal) with float number\n",
      "    # by using a double slash (//) like this:\n",
      "    \n",
      "51.//5"
     ],
     "language": "python",
     "metadata": {},
     "outputs": []
    },
    {
     "cell_type": "code",
     "collapsed": false,
     "input": [
      "# You can also do exponentiel be using (**):\n",
      "\n",
      "5**5"
     ],
     "language": "python",
     "metadata": {},
     "outputs": []
    },
    {
     "cell_type": "code",
     "collapsed": false,
     "input": [
      "# Python follow the classic order of operation:\n",
      "\n",
      "5 * 2 - 1**2 * (2+1) # 10 - 1 * 3 -> 10 - 3 -> 7"
     ],
     "language": "python",
     "metadata": {},
     "outputs": []
    },
    {
     "cell_type": "heading",
     "level": 3,
     "metadata": {},
     "source": [
      "String"
     ]
    },
    {
     "cell_type": "code",
     "collapsed": false,
     "input": [
      "# The second one is the string, it is a sequence of characters:\n",
      "\n",
      "a_string =  'ABCDEFGHIJ'\n",
      "\n",
      "# This will usually how sequence will be:\n",
      "\n",
      "seq_ecoli = 'AGATCGATCTACGTACTACTACGTGCGGCGCTCGATCTATATACGATCGATATCATCATCGACGCGCGCGCGCCATCGCCCCAGGCATCGGGATCGATTATAGATATTCGATGA'\n",
      "seq_secerevisiae = 'AGCACGATCGATATATATCGTCGATCGCGCGATCGTCGTCGCCGCGCGCTATATATCGTAGCATATATTAATAGAAGGAATTATCGCGATTACGAGCTAGCATCATGCATATCGAC'\n",
      "\n",
      "# String can also containt number:\n",
      "\n",
      "this_is_not_an_int = '5'    # But be careful, it will not act as a float or an integer"
     ],
     "language": "python",
     "metadata": {},
     "outputs": []
    },
    {
     "cell_type": "code",
     "collapsed": false,
     "input": [
      "# Exemple you won't be able to add number\n",
      "\n",
      "this_is_not_an_int + 5     # This raise an error"
     ],
     "language": "python",
     "metadata": {},
     "outputs": []
    },
    {
     "cell_type": "code",
     "collapsed": false,
     "input": [
      "this_is_not_an_int * 5     # Will print '55555' and not 25"
     ],
     "language": "python",
     "metadata": {},
     "outputs": []
    },
    {
     "cell_type": "code",
     "collapsed": false,
     "input": [
      "# But you can add two strings thogether:\n",
      "\n",
      "'Hello' + ' world'"
     ],
     "language": "python",
     "metadata": {},
     "outputs": []
    },
    {
     "cell_type": "code",
     "collapsed": false,
     "input": [
      "help(str)"
     ],
     "language": "python",
     "metadata": {},
     "outputs": []
    },
    {
     "cell_type": "heading",
     "level": 3,
     "metadata": {},
     "source": [
      "List"
     ]
    },
    {
     "cell_type": "code",
     "collapsed": false,
     "input": [
      "# The thrid one is the list. The list is a group ordonned of object.\n",
      "\n",
      "\n",
      "# A list is represented by a group of element in bracket []"
     ],
     "language": "python",
     "metadata": {},
     "outputs": []
    },
    {
     "cell_type": "code",
     "collapsed": false,
     "input": [
      "# To create a list, you just have to put object inside brackets:\n",
      "\n",
      "gene_list = ['YLC000', 'YLD0505', 'YLF090', 'YLA059', 'YLC989', 'YLT556']\n",
      "\n",
      "print gene_list"
     ],
     "language": "python",
     "metadata": {},
     "outputs": [
      {
       "output_type": "stream",
       "stream": "stdout",
       "text": [
        "['YLC000', 'YLD0505', 'YLF090', 'YLA059', 'YLC989', 'YLT556']\n"
       ]
      }
     ],
     "prompt_number": 2
    },
    {
     "cell_type": "code",
     "collapsed": false,
     "input": [
      "# List can be added\n",
      "\n",
      "second_gene_list = ['YLD454','YRD545','YRE435']\n",
      "\n",
      "gene_list + second_gene_list # You can only add list toghether "
     ],
     "language": "python",
     "metadata": {},
     "outputs": [
      {
       "metadata": {},
       "output_type": "pyout",
       "prompt_number": 22,
       "text": [
        "['YLC000',\n",
        " 'YLD0505',\n",
        " 'YLF090',\n",
        " 'YLA059',\n",
        " 'YLC989',\n",
        " 'YLT556',\n",
        " 'YLD454',\n",
        " 'YRD545',\n",
        " 'YRE435']"
       ]
      }
     ],
     "prompt_number": 22
    },
    {
     "cell_type": "code",
     "collapsed": false,
     "input": [
      "# or can be multiply:\n",
      "\n",
      "gene_list * 2"
     ],
     "language": "python",
     "metadata": {},
     "outputs": [
      {
       "metadata": {},
       "output_type": "pyout",
       "prompt_number": 23,
       "text": [
        "['YLC000',\n",
        " 'YLD0505',\n",
        " 'YLF090',\n",
        " 'YLA059',\n",
        " 'YLC989',\n",
        " 'YLT556',\n",
        " 'YLC000',\n",
        " 'YLD0505',\n",
        " 'YLF090',\n",
        " 'YLA059',\n",
        " 'YLC989',\n",
        " 'YLT556']"
       ]
      }
     ],
     "prompt_number": 23
    },
    {
     "cell_type": "code",
     "collapsed": false,
     "input": [
      "# If you want to add one object, you have to use the method .append()\n",
      "\n",
      "gene_list.append('YRA000')\n",
      "\n",
      "print gene_list"
     ],
     "language": "python",
     "metadata": {},
     "outputs": [
      {
       "output_type": "stream",
       "stream": "stdout",
       "text": [
        "['YLC000', 'YLD0505', 'YLF090', 'YLA059', 'YLC989', 'YLT556', 'YRA000']\n"
       ]
      }
     ],
     "prompt_number": 24
    },
    {
     "cell_type": "code",
     "collapsed": false,
     "input": [
      "# you can also remove object:\n",
      "\n",
      "# There is two methods:\n",
      "    #use .pop()\n",
      "    \n",
      "gene_list.pop() # Remove the last element, or remove the element at the specific index"
     ],
     "language": "python",
     "metadata": {},
     "outputs": [
      {
       "output_type": "stream",
       "stream": "stdout",
       "text": [
        "[1, 2, 3, 4, 5]\n"
       ]
      }
     ],
     "prompt_number": 20
    },
    {
     "cell_type": "code",
     "collapsed": false,
     "input": [
      "print gene_list"
     ],
     "language": "python",
     "metadata": {},
     "outputs": []
    },
    {
     "cell_type": "code",
     "collapsed": false,
     "input": [
      "gene_list.pop(0)"
     ],
     "language": "python",
     "metadata": {},
     "outputs": [
      {
       "metadata": {},
       "output_type": "pyout",
       "prompt_number": 26,
       "text": [
        "'YLC000'"
       ]
      }
     ],
     "prompt_number": 26
    },
    {
     "cell_type": "code",
     "collapsed": false,
     "input": [
      "print gene_list"
     ],
     "language": "python",
     "metadata": {},
     "outputs": []
    },
    {
     "cell_type": "code",
     "collapsed": false,
     "input": [
      "# Or you can remove one specific element with .remove()\n",
      "gene_list.remove('YLF090')"
     ],
     "language": "python",
     "metadata": {},
     "outputs": []
    },
    {
     "cell_type": "code",
     "collapsed": false,
     "input": [
      "print gene_list"
     ],
     "language": "python",
     "metadata": {},
     "outputs": [
      {
       "output_type": "stream",
       "stream": "stdout",
       "text": [
        "['YLD0505', 'YLA059', 'YLC989', 'YLT556', 'YRA000']\n"
       ]
      }
     ],
     "prompt_number": 28
    },
    {
     "cell_type": "code",
     "collapsed": false,
     "input": [
      "help(list)"
     ],
     "language": "python",
     "metadata": {},
     "outputs": []
    },
    {
     "cell_type": "heading",
     "level": 3,
     "metadata": {},
     "source": [
      "Dictionnary"
     ]
    },
    {
     "cell_type": "markdown",
     "metadata": {},
     "source": [
      "The list as we just see, is a group of object indexed by number from 0 to the number of object.\n",
      "\n",
      "The dictionnary is similar in the same way than it is a group of object, but instead of being indexed by ordered number, it is by key.\n",
      "\n",
      "Making the dictionnary of group of pair of key, values. The key is usually a string (or a number(int or float)), and values can be mostly anythings like in list, even other dictionnary.\n",
      "\n",
      "Key and values are associated with double dot (:) and pair are separeted with comma (,).\n",
      "\n",
      "Dictionnary are represented between {}"
     ]
    },
    {
     "cell_type": "code",
     "collapsed": false,
     "input": [
      "# Example of dictionnary\n",
      "\n",
      "ITS_sparadoxus = {\n",
      "            'H1_O4-26':'GATGNAGNTNGAGGACGTCTAAAGATACTGTAAGAGAGGATCAGGTTCAAGACCAGCGCTTAATTGCGCGGTTGCGGCTTGGTTCGC\\\n",
      "CTTTTGCGGAACATGTC',\n",
      "            'G7_O4-26':'TCAAAACTTTCAACAACGGATCTCTTGGTTCTCGCATCGATGAAGAACGCAGCGAATTGCGATAAGTATTGTGAATTGCAGATTTTCGTGAAT\\\n",
      "CATCGAATCTTTGAACGCACATTGCGCCCTCTGGT',\n",
      "            'E8_O4-26':'TCAAAACTTTCAACAACGGATCTCTTGGTTCTCGCATCGATGAAGAACGCAGCGAATTGCGATAAGTATTGTGAATTGCAGATTTTCGTGAATC\\\n",
      "ATCGAATCTTTGAACGCACATTGCGCCCTCTG'\n",
      "}\n"
     ],
     "language": "python",
     "metadata": {},
     "outputs": [],
     "prompt_number": 62
    },
    {
     "cell_type": "code",
     "collapsed": false,
     "input": [
      "# Now, if we want to acces one element of the dictionnary, we won't be able using numerical indexing:\n",
      "\n",
      "ITS_sparadoxus[0]"
     ],
     "language": "python",
     "metadata": {},
     "outputs": [
      {
       "ename": "KeyError",
       "evalue": "0",
       "output_type": "pyerr",
       "traceback": [
        "\u001b[1;31m---------------------------------------------------------------------------\u001b[0m\n\u001b[1;31mKeyError\u001b[0m                                  Traceback (most recent call last)",
        "\u001b[1;32m<ipython-input-57-5a45a47e5e52>\u001b[0m in \u001b[0;36m<module>\u001b[1;34m()\u001b[0m\n\u001b[0;32m      1\u001b[0m \u001b[1;31m# Now, if we want to acces one element of the dictionnary, we won't be able using numerical indexing:\u001b[0m\u001b[1;33m\u001b[0m\u001b[1;33m\u001b[0m\u001b[0m\n\u001b[0;32m      2\u001b[0m \u001b[1;33m\u001b[0m\u001b[0m\n\u001b[1;32m----> 3\u001b[1;33m \u001b[0mITS_sparadoxus\u001b[0m\u001b[1;33m[\u001b[0m\u001b[1;36m0\u001b[0m\u001b[1;33m]\u001b[0m\u001b[1;33m\u001b[0m\u001b[0m\n\u001b[0m",
        "\u001b[1;31mKeyError\u001b[0m: 0"
       ]
      }
     ],
     "prompt_number": 57
    },
    {
     "cell_type": "code",
     "collapsed": false,
     "input": [
      "# We need to put a valid key inside the bracket:\n",
      "\n",
      "ITS_sparadoxus['E8_O4-26']"
     ],
     "language": "python",
     "metadata": {},
     "outputs": [
      {
       "metadata": {},
       "output_type": "pyout",
       "prompt_number": 63,
       "text": [
        "'TCAAAACTTTCAACAACGGATCTCTTGGTTCTCGCATCGATGAAGAACGCAGCGAATTGCGATAAGTATTGTGAATTGCAGATTTTCGTGAATCATCGAATCTTTGAACGCACATTGCGCCCTCTG'"
       ]
      }
     ],
     "prompt_number": 63
    },
    {
     "cell_type": "code",
     "collapsed": false,
     "input": [
      "# We don't need to remember the keys of the dictionnary we can ask them:\n",
      "\n",
      "ITS_sparadoxus.keys()"
     ],
     "language": "python",
     "metadata": {},
     "outputs": [
      {
       "metadata": {},
       "output_type": "pyout",
       "prompt_number": 64,
       "text": [
        "['E8_O4-26', 'G7_O4-26', 'H1_O4-26']"
       ]
      }
     ],
     "prompt_number": 64
    },
    {
     "cell_type": "code",
     "collapsed": false,
     "input": [
      "# We can also request all the values only:\n",
      "\n",
      "ITS_sparadoxus.values()"
     ],
     "language": "python",
     "metadata": {},
     "outputs": [
      {
       "metadata": {},
       "output_type": "pyout",
       "prompt_number": 65,
       "text": [
        "['TCAAAACTTTCAACAACGGATCTCTTGGTTCTCGCATCGATGAAGAACGCAGCGAATTGCGATAAGTATTGTGAATTGCAGATTTTCGTGAATCATCGAATCTTTGAACGCACATTGCGCCCTCTG',\n",
        " 'TCAAAACTTTCAACAACGGATCTCTTGGTTCTCGCATCGATGAAGAACGCAGCGAATTGCGATAAGTATTGTGAATTGCAGATTTTCGTGAATCATCGAATCTTTGAACGCACATTGCGCCCTCTGGT',\n",
        " 'GATGNAGNTNGAGGACGTCTAAAGATACTGTAAGAGAGGATCAGGTTCAAGACCAGCGCTTAATTGCGCGGTTGCGGCTTGGTTCGCCTTTTGCGGAACATGTC']"
       ]
      }
     ],
     "prompt_number": 65
    },
    {
     "cell_type": "code",
     "collapsed": false,
     "input": [
      "# Or we can request both at the same time:\n",
      "\n",
      "ITS_sparadoxus.items()"
     ],
     "language": "python",
     "metadata": {},
     "outputs": [
      {
       "metadata": {},
       "output_type": "pyout",
       "prompt_number": 66,
       "text": [
        "[('E8_O4-26',\n",
        "  'TCAAAACTTTCAACAACGGATCTCTTGGTTCTCGCATCGATGAAGAACGCAGCGAATTGCGATAAGTATTGTGAATTGCAGATTTTCGTGAATCATCGAATCTTTGAACGCACATTGCGCCCTCTG'),\n",
        " ('G7_O4-26',\n",
        "  'TCAAAACTTTCAACAACGGATCTCTTGGTTCTCGCATCGATGAAGAACGCAGCGAATTGCGATAAGTATTGTGAATTGCAGATTTTCGTGAATCATCGAATCTTTGAACGCACATTGCGCCCTCTGGT'),\n",
        " ('H1_O4-26',\n",
        "  'GATGNAGNTNGAGGACGTCTAAAGATACTGTAAGAGAGGATCAGGTTCAAGACCAGCGCTTAATTGCGCGGTTGCGGCTTGGTTCGCCTTTTGCGGAACATGTC')]"
       ]
      }
     ],
     "prompt_number": 66
    },
    {
     "cell_type": "code",
     "collapsed": false,
     "input": [
      "# You can also see than the order in which to pair appear are not the same than the one we created the dictionnary,\n",
      "# that because dictionnary are not ordered."
     ],
     "language": "python",
     "metadata": {},
     "outputs": []
    },
    {
     "cell_type": "code",
     "collapsed": false,
     "input": [
      "help(dict)"
     ],
     "language": "python",
     "metadata": {},
     "outputs": []
    },
    {
     "cell_type": "heading",
     "level": 2,
     "metadata": {},
     "source": [
      "The functions intrinsic to python"
     ]
    },
    {
     "cell_type": "markdown",
     "metadata": {},
     "source": [
      "Python come with many function already implemented, we have already use some of those as:\n",
      "\n",
      "    -print\n",
      "    -len()\n",
      "    \n",
      "Its exist many more other function, we will see some more here"
     ]
    },
    {
     "cell_type": "code",
     "collapsed": false,
     "input": [
      "# The print statement:\n",
      "\n",
      "# We already see it, it serve to show text\n",
      "\n",
      "# Every print finish with a '\\n', except if you end it with a comma\n",
      "\n",
      "print 'Hello'\n",
      "print 'World'"
     ],
     "language": "python",
     "metadata": {},
     "outputs": [
      {
       "output_type": "stream",
       "stream": "stdout",
       "text": [
        "Hello\n",
        "World\n"
       ]
      }
     ],
     "prompt_number": 30
    },
    {
     "cell_type": "code",
     "collapsed": false,
     "input": [
      "print 'Hello',\n",
      "print 'World'"
     ],
     "language": "python",
     "metadata": {},
     "outputs": [
      {
       "output_type": "stream",
       "stream": "stdout",
       "text": [
        "Hello World\n"
       ]
      }
     ],
     "prompt_number": 31
    },
    {
     "cell_type": "code",
     "collapsed": false,
     "input": [
      "# The len() function serve to know the lenght of a iterable:\n",
      "\n",
      "print len(seq_ecoli)\n",
      "print len(seq_secerevisiae)\n",
      "\n",
      "print len(ITS_sparadoxus) # Print the number of pair inside the dictionnary\n",
      "print len(ITS_sparadoxus['E8_O4-26'])"
     ],
     "language": "python",
     "metadata": {},
     "outputs": [
      {
       "output_type": "stream",
       "stream": "stdout",
       "text": [
        "114\n",
        "116\n",
        "3\n",
        "126\n"
       ]
      }
     ],
     "prompt_number": 67
    },
    {
     "cell_type": "code",
     "collapsed": false,
     "input": [
      "# The zip() function:\n",
      "\n",
      "# Use to add together element of iterable:\n",
      "\n",
      "zip([1,2,3,4], ['a','b','c','d'])"
     ],
     "language": "python",
     "metadata": {},
     "outputs": []
    },
    {
     "cell_type": "code",
     "collapsed": false,
     "input": [
      "# Can be use even if element are not the same lenght:\n",
      "\n",
      "zip([1,2,3,4,5,6], ['a','b','c','d']) # But will stop at the shortest element"
     ],
     "language": "python",
     "metadata": {},
     "outputs": []
    },
    {
     "cell_type": "code",
     "collapsed": false,
     "input": [
      "# This function is useful to build dictionnary:\n",
      "\n",
      "    # Image you have a list as your key (a list of genes as exemple)\n",
      "    # And an other list containt information on these gene (expression level, position on the genome...)\n",
      "    # You can use zip() with this two lists to make key, val pair for builing the dictionnary:\n",
      "    \n",
      "gene_list = ['YLC000', 'YLD0505', 'YLF090']\n",
      "expression_level = [2.45,5.33, 0.65]\n",
      "\n",
      "zip(gene_list, expression_level)"
     ],
     "language": "python",
     "metadata": {},
     "outputs": []
    },
    {
     "cell_type": "code",
     "collapsed": false,
     "input": [
      "gene_expression = dict(zip(gene_list, expression_level))\n",
      "print gene_expression"
     ],
     "language": "python",
     "metadata": {},
     "outputs": []
    },
    {
     "cell_type": "code",
     "collapsed": false,
     "input": [
      "# You can also unzip by using this method:\n",
      "\n",
      "my_zip = zip(gene_list, expression_level)\n",
      "\n",
      "my_unzip = zip(*my_zip)\n",
      "\n",
      "print my_zip\n",
      "\n",
      "print my_unzip"
     ],
     "language": "python",
     "metadata": {},
     "outputs": []
    },
    {
     "cell_type": "code",
     "collapsed": false,
     "input": [
      "# The function type(), give you the kind of object your variable are assigned to:\n",
      "\n",
      "print type(ITS_sparadoxus) # will print dict"
     ],
     "language": "python",
     "metadata": {},
     "outputs": [
      {
       "metadata": {},
       "output_type": "pyout",
       "prompt_number": 68,
       "text": [
        "dict"
       ]
      }
     ],
     "prompt_number": 68
    },
    {
     "cell_type": "code",
     "collapsed": false,
     "input": [
      "print type(seq_ecoli) # will print string"
     ],
     "language": "python",
     "metadata": {},
     "outputs": [
      {
       "output_type": "stream",
       "stream": "stdout",
       "text": [
        "<type 'str'>\n"
       ]
      }
     ],
     "prompt_number": 69
    },
    {
     "cell_type": "code",
     "collapsed": false,
     "input": [
      "print type(5) # will print int"
     ],
     "language": "python",
     "metadata": {},
     "outputs": [
      {
       "output_type": "stream",
       "stream": "stdout",
       "text": [
        "<type 'int'>\n"
       ]
      }
     ],
     "prompt_number": 70
    },
    {
     "cell_type": "code",
     "collapsed": false,
     "input": [
      "# The sorted() function serve to put an iterable in order:\n",
      "\n",
      "sorted(gene_list)"
     ],
     "language": "python",
     "metadata": {},
     "outputs": [
      {
       "metadata": {},
       "output_type": "pyout",
       "prompt_number": 9,
       "text": [
        "['YLT556', 'YLF090', 'YLD0505', 'YLC989', 'YLC000', 'YLA059']"
       ]
      }
     ],
     "prompt_number": 9
    },
    {
     "cell_type": "code",
     "collapsed": false,
     "input": [
      "# You can also reverse the order with reverse=True\n",
      "\n",
      "sorted(gene_list, reverse=True)"
     ],
     "language": "python",
     "metadata": {},
     "outputs": [
      {
       "metadata": {},
       "output_type": "pyout",
       "prompt_number": 10,
       "text": [
        "['YLT556', 'YLF090', 'YLD0505', 'YLC989', 'YLC000', 'YLA059']"
       ]
      }
     ],
     "prompt_number": 10
    },
    {
     "cell_type": "heading",
     "level": 2,
     "metadata": {},
     "source": [
      "Extra things to know about python"
     ]
    },
    {
     "cell_type": "code",
     "collapsed": false,
     "input": [
      "# First be careful with identation\n",
      "# Tab and space count"
     ],
     "language": "python",
     "metadata": {},
     "outputs": []
    },
    {
     "cell_type": "code",
     "collapsed": false,
     "input": [
      "# Accessing iterable:\n",
      "\n",
      "# You can acces any element in an iterable use bracket [] at the end of the variable name\n",
      "# If I want the first obejct of a list I can do\n",
      "\n",
      "gene_list[0] # Remember that numerotation start at 0 in python"
     ],
     "language": "python",
     "metadata": {},
     "outputs": [
      {
       "metadata": {},
       "output_type": "pyout",
       "prompt_number": 3,
       "text": [
        "'YLC000'"
       ]
      }
     ],
     "prompt_number": 3
    },
    {
     "cell_type": "code",
     "collapsed": false,
     "input": [
      "# You can also acess many elements at the same time\n",
      "\n",
      "# You can put three number between the bracket (separated by (:))\n",
      "\n",
      "# an_iterable[start:stop:step]\n",
      "# start: the possition to start (is included)\n",
      "# stop: the position to stop (NOT included)\n",
      "# step can be negative, allow you to reverse the iterable\n",
      "gene_list[0:2] # Will just give two elements"
     ],
     "language": "python",
     "metadata": {},
     "outputs": [
      {
       "metadata": {},
       "output_type": "pyout",
       "prompt_number": 4,
       "text": [
        "['YLC000', 'YLD0505']"
       ]
      }
     ],
     "prompt_number": 4
    },
    {
     "cell_type": "code",
     "collapsed": false,
     "input": [
      "gene_list[2:-1] # -1 is the last element"
     ],
     "language": "python",
     "metadata": {},
     "outputs": [
      {
       "metadata": {},
       "output_type": "pyout",
       "prompt_number": 5,
       "text": [
        "['YLF090', 'YLA059', 'YLC989']"
       ]
      }
     ],
     "prompt_number": 5
    },
    {
     "cell_type": "code",
     "collapsed": false,
     "input": [
      "gene_list[::-1] # Reverse the list"
     ],
     "language": "python",
     "metadata": {},
     "outputs": [
      {
       "metadata": {},
       "output_type": "pyout",
       "prompt_number": 6,
       "text": [
        "['YLT556', 'YLC989', 'YLA059', 'YLF090', 'YLD0505', 'YLC000']"
       ]
      }
     ],
     "prompt_number": 6
    },
    {
     "cell_type": "code",
     "collapsed": false,
     "input": [
      "gene_list[:2] # like gene_list[0:2]"
     ],
     "language": "python",
     "metadata": {},
     "outputs": [
      {
       "metadata": {},
       "output_type": "pyout",
       "prompt_number": 7,
       "text": [
        "['YLC000', 'YLD0505']"
       ]
      }
     ],
     "prompt_number": 7
    },
    {
     "cell_type": "code",
     "collapsed": false,
     "input": [
      "# Comparators: it's possible in python to compare different variable:\n",
      "\n",
      "# You can ask if two variable are equal (==), smaller or bigger (<,>) or different (!=)\n",
      "# All this comparaison will return a booleen (True or False)\n",
      "# This way we can compare think like:\n",
      "\n",
      "    # The lenght of two sequences:\n",
      "\n",
      "print len(seq_ecoli) == len(seq_secerevisiae) # Is the same as\n",
      "print len(seq_ecoli) != len(seq_secerevisiae) # Is different of\n",
      "print len(seq_ecoli) < len(seq_secerevisiae) # Is smaller then\n",
      "print len(seq_ecoli) > len(seq_secerevisiae) # Is bigger then\n",
      "print len(seq_ecoli) >= len(seq_secerevisiae) # Is equal or bigger\n",
      "print len(seq_ecoli) <= len(seq_secerevisiae) # Is equal or smaller\n",
      "\n",
      "    # The relation between value:\n",
      "    \n",
      "print gene_expression['YLC000'] > 0\n",
      "    \n",
      "    # If two string is equivalent:\n",
      "    \n",
      "print 'A' == 'A'\n",
      "print seq_ecoli == seq_secerevisiae\n",
      "    \n"
     ],
     "language": "python",
     "metadata": {},
     "outputs": []
    }
   ],
   "metadata": {}
  }
 ]
}