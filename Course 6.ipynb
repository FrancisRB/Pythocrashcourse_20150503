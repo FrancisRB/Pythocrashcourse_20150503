{
 "metadata": {
  "name": "",
  "signature": "sha256:5ca8ece9c2227b8dbd1fdfc2cb5d84b9adde16cbec75c03673a02b1b52ec3e17"
 },
 "nbformat": 3,
 "nbformat_minor": 0,
 "worksheets": [
  {
   "cells": [
    {
     "cell_type": "heading",
     "level": 1,
     "metadata": {},
     "source": [
      "Welcome to the last course of this Python Crash Course"
     ]
    },
    {
     "cell_type": "markdown",
     "metadata": {},
     "source": [
      "Return on matter we have seen\n",
      "\n",
      "What we have see:\n",
      "\n",
      "    - Assign to variable using =\n",
      "\n",
      "    - Base object:\n",
      "           \n",
      "        - Interger, float\n",
      "    \n",
      "        - String (and the methods (.replace(), .count(), .join(), .startswith(), .endswith(), .split(), .strip()...)\n",
      "        \n",
      "        - Boolean (True and Flase, and comparator (==, !=, <, > , =>, =<) and (not, in, and , or))\n",
      "    \n",
      "        - List (.append()) creating using []\n",
      "    \n",
      "        - Dictionnary (.items(), .keys(), .values())  creating using {}\n",
      "        \n",
      "    \n",
      "      - Accessing an object using [start:stop:step]\n",
      "      \n",
      "      - Python basic function (type(), len(), zip(), range(), dict(), list(), str(), int(), float())\n",
      "      \n",
      "      - Control flow:\n",
      "          \n",
      "          - if, elif, else\n",
      "          \n",
      "          - for loop\n",
      "          \n",
      "          - Identation\n",
      "          \n",
      "      - Regular expression:\n",
      "      \n",
      "          - re.match(), re.sub(), re.search(), re.split(), re.finditer()\n",
      "          \n",
      "          - Pattern: . [A-Z]  [^-N] [ATCG]    \\w     \\d\n",
      "          \n",
      "          - Quantifiers:    ?   *   +   {}\n",
      "          \n",
      "      - Read and write file:\n",
      "      \n",
      "          - with open('FilePath\\FileName', 'mode')\n",
      "          \n",
      "          - mode = 'r', 'w', 'a', 'r+'\n",
      "          \n",
      "          - .readlines()\n",
      "          \n",
      "      - Writting function\n",
      "          \n",
      "          - def function_name():\n",
      "                  return output\n",
      "          \n"
     ]
    },
    {
     "cell_type": "code",
     "collapsed": true,
     "input": [
      "# Using list comprehension\n",
      "\n",
      "def gc_content(seq_dico):\n",
      "    GC_dict={}\n",
      "    for seq_name in seq_dico.keys():\n",
      "        seq=seq_dico[seq_name]\n",
      "        length=len(seq)\n",
      "        g_count=seq.count(\"G\") \n",
      "        c_count=seq.count(\"C\")\n",
      "        gc_content=float(g_count + c_count)/length\n",
      "        GC_dict[seq_name]=gc_content\n",
      "    return GC_dict\n"
     ],
     "language": "python",
     "metadata": {},
     "outputs": []
    },
    {
     "cell_type": "code",
     "collapsed": false,
     "input": [
      "# Difference between methods and function\n",
      "\n",
      "# Quite similar, but differs on how to call it and where they are define\n",
      "\n",
      "# Function don't depend of an object, methods do"
     ],
     "language": "python",
     "metadata": {},
     "outputs": []
    },
    {
     "cell_type": "code",
     "collapsed": false,
     "input": [
      "# Logic of programmation\n",
      "\n",
      "# Plan ahead\n",
      "\n",
      "    # What is your input, your output, when you gonna need your script\n",
      "\n",
      "    # Use function the split your script in different parts\n",
      "    \n",
      "    # Write it in english (french) first"
     ],
     "language": "python",
     "metadata": {},
     "outputs": []
    },
    {
     "cell_type": "heading",
     "level": 2,
     "metadata": {},
     "source": [
      "Module"
     ]
    },
    {
     "cell_type": "markdown",
     "metadata": {},
     "source": [
      "We have see that we can we can import code (re module)\n",
      "\n",
      "Importing module is very common (very few script don't inclure import statement)\n",
      "\n",
      "If you want to use Python, you will have to explore new library\n",
      "\n",
      "and understand other's code"
     ]
    },
    {
     "cell_type": "code",
     "collapsed": true,
     "input": [
      "# First we have to import to library, for that so simply have to do:\n",
      "\n",
      "import os\n",
      "\n",
      "# or\n",
      "\n",
      "import os as operatingsystem\n",
      "\n",
      "# or\n",
      "\n",
      "from os import (what you need)"
     ],
     "language": "python",
     "metadata": {},
     "outputs": []
    },
    {
     "cell_type": "code",
     "collapsed": true,
     "input": [
      "os.getcwd()"
     ],
     "language": "python",
     "metadata": {},
     "outputs": []
    },
    {
     "cell_type": "code",
     "collapsed": true,
     "input": [
      "os.chdir() # Change your working directory"
     ],
     "language": "python",
     "metadata": {},
     "outputs": []
    },
    {
     "cell_type": "code",
     "collapsed": false,
     "input": [
      "os.makedirs()"
     ],
     "language": "python",
     "metadata": {},
     "outputs": []
    },
    {
     "cell_type": "code",
     "collapsed": false,
     "input": [
      "# An other usefull library is itertools\n",
      "\n",
      "import intertools"
     ],
     "language": "python",
     "metadata": {},
     "outputs": []
    },
    {
     "cell_type": "code",
     "collapsed": false,
     "input": [
      "# A good way to know hoe to use a library is by looking at the documentation only\n",
      "\n",
      "# https://docs.python.org/2/library/itertools.html"
     ],
     "language": "python",
     "metadata": {},
     "outputs": []
    },
    {
     "cell_type": "code",
     "collapsed": true,
     "input": [
      "# Exercice:\n",
      "\n",
      "# Explain what this line do\n",
      "\n",
      "# And try to write code than do the same thing without using itertols module\n",
      "\n",
      "[''.join(x) for x in list(itertools.product(['U','C','A','G'], repeat=3))]"
     ],
     "language": "python",
     "metadata": {},
     "outputs": []
    },
    {
     "cell_type": "code",
     "collapsed": true,
     "input": [
      "# Some specific library"
     ],
     "language": "python",
     "metadata": {},
     "outputs": []
    },
    {
     "cell_type": "code",
     "collapsed": true,
     "input": [
      "# To make DataFrame\n",
      "\n",
      "import pandas"
     ],
     "language": "python",
     "metadata": {},
     "outputs": []
    }
   ],
   "metadata": {}
  }
 ]
}